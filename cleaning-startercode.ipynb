{
 "cells": [
  {
   "cell_type": "code",
   "execution_count": null,
   "metadata": {},
   "outputs": [],
   "source": [
    "import pandas as pd\n",
    "import numpy as np\n",
    "import matplotlib.pyplot as plt\n",
    "import scipy.stats as st"
   ]
  },
  {
   "cell_type": "code",
   "execution_count": null,
   "metadata": {},
   "outputs": [],
   "source": [
    "# Load datasets\n",
    "# census_data = pd.read_csv('..''Resources'') \n",
    "## ^^ this will become API right? -natalie \n",
    "median_prices_all = pd.read_csv('..''Resources''median_sales_price_all.csv')\n",
    "median_prices_sfr = pd.read_csv('..''Resources''median_sales_price_sfr.csv')\n",
    "\n",
    "# Display the first few rows of each dataset\n",
    "# census_data.head()\n",
    "median_prices_all.head()\n",
    "median_prices_sfr.head()"
   ]
  },
  {
   "cell_type": "code",
   "execution_count": null,
   "metadata": {},
   "outputs": [],
   "source": [
    "# Get summary statistics\n",
    "# census_data.info()\n",
    "median_prices_all.info()\n",
    "median_prices_sfr.info()\n",
    "\n",
    "# Check for missing values\n",
    "# census_data.isnull().sum()\n",
    "median_prices_all.isnull().sum()\n",
    "median_prices_sfr.isnull().sum()"
   ]
  },
  {
   "cell_type": "code",
   "execution_count": null,
   "metadata": {},
   "outputs": [],
   "source": [
    "# Example cleaning steps (these will vary based on actual data issues found)\n",
    "\n",
    "# Handle missing values (e.g., drop rows with missing target values)\n",
    "real_estate_data = real_estate_data.dropna(subset=['price'])\n",
    "\n",
    "# Convert date columns to datetime\n",
    "sales_data['date'] = pd.to_datetime(sales_data['date'])\n",
    "\n",
    "# Standardize numerical formats\n",
    "census_data['income'] = census_data['income'].astype(float)\n",
    "\n",
    "# Filter data for Nashville metro area\n",
    "nashville_data = real_estate_data[real_estate_data['metro_area'] == 'Nashville']"
   ]
  },
  {
   "cell_type": "code",
   "execution_count": null,
   "metadata": {},
   "outputs": [],
   "source": [
    "# Merge datasets on common keys\n",
    "merged_data = pd.merge(nashville_data, census_data, on='common_key')\n",
    "merged_data = pd.merge(merged_data, sales_data, on='common_key')\n",
    "\n",
    "# Verify the merged dataset\n",
    "merged_data.head()\n",
    "merged_data.info()"
   ]
  },
  {
   "cell_type": "code",
   "execution_count": null,
   "metadata": {},
   "outputs": [],
   "source": []
  },
  {
   "cell_type": "code",
   "execution_count": null,
   "metadata": {},
   "outputs": [],
   "source": []
  },
  {
   "cell_type": "code",
   "execution_count": null,
   "metadata": {},
   "outputs": [],
   "source": []
  },
  {
   "cell_type": "code",
   "execution_count": null,
   "metadata": {},
   "outputs": [],
   "source": []
  },
  {
   "cell_type": "code",
   "execution_count": null,
   "metadata": {},
   "outputs": [],
   "source": []
  },
  {
   "cell_type": "code",
   "execution_count": null,
   "metadata": {},
   "outputs": [],
   "source": []
  },
  {
   "cell_type": "code",
   "execution_count": null,
   "metadata": {},
   "outputs": [],
   "source": []
  },
  {
   "cell_type": "code",
   "execution_count": null,
   "metadata": {},
   "outputs": [],
   "source": []
  },
  {
   "cell_type": "code",
   "execution_count": null,
   "metadata": {},
   "outputs": [],
   "source": []
  },
  {
   "cell_type": "code",
   "execution_count": null,
   "metadata": {},
   "outputs": [],
   "source": []
  },
  {
   "cell_type": "code",
   "execution_count": null,
   "metadata": {},
   "outputs": [],
   "source": []
  },
  {
   "cell_type": "code",
   "execution_count": null,
   "metadata": {},
   "outputs": [],
   "source": []
  },
  {
   "cell_type": "code",
   "execution_count": null,
   "metadata": {},
   "outputs": [],
   "source": []
  },
  {
   "cell_type": "code",
   "execution_count": null,
   "metadata": {},
   "outputs": [],
   "source": []
  },
  {
   "cell_type": "code",
   "execution_count": null,
   "metadata": {},
   "outputs": [],
   "source": []
  }
 ],
 "metadata": {
  "kernelspec": {
   "display_name": "Python 3 (ipykernel)",
   "language": "python",
   "name": "python3"
  },
  "language_info": {
   "codemirror_mode": {
    "name": "ipython",
    "version": 3
   },
   "file_extension": ".py",
   "mimetype": "text/x-python",
   "name": "python",
   "nbconvert_exporter": "python",
   "pygments_lexer": "ipython3",
   "version": "3.11.7"
  }
 },
 "nbformat": 4,
 "nbformat_minor": 4
}
